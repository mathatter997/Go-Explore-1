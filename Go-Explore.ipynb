{
 "cells": [
  {
   "cell_type": "markdown",
   "metadata": {},
   "source": [
    "## Imports and helper functions"
   ]
  },
  {
   "cell_type": "code",
   "execution_count": 2,
   "metadata": {},
   "outputs": [],
   "source": [
    "import numpy as np\n",
    "import matplotlib.pyplot as plt\n",
    "from scipy.ndimage import rotate\n",
    "from PIL import Image\n",
    "import ipywidgets as widgets\n",
    "from io import BytesIO\n",
    "from IPython.display import display\n",
    "import matplotlib as mpl\n",
    "import imageio\n",
    "import glob\n",
    "import re\n",
    "from tqdm import tqdm_notebook\n",
    "import tqdm\n",
    "import pickle\n"
   ]
  },
  {
   "cell_type": "code",
   "execution_count": 3,
   "metadata": {},
   "outputs": [],
   "source": [
    "def tryint(s):\n",
    "    try:\n",
    "        return int(s)\n",
    "    except:\n",
    "        return s\n",
    "\n",
    "\n",
    "def alphanum_key(s):\n",
    "    \"\"\" Turn a string into a list of string and number chunks.\n",
    "        \"z23a\" -> [\"z\", 23, \"a\"]\n",
    "    \"\"\"\n",
    "    return [tryint(c) for c in re.split('([0-9]+)', s)]\n",
    "\n",
    "\n",
    "def sort_nicely(l):\n",
    "    \"\"\" Sort the given list in the way that humans expect.\n",
    "    \"\"\"\n",
    "    l.sort(key=alphanum_key)\n",
    "    \n",
    "def arr2bytes(arr):\n",
    "    \"\"\"Display a 2- or 3-d numpy array as an image.\"\"\"\n",
    "    if arr.ndim == 2:\n",
    "        format, cmap = 'png', mpl.cm.gray\n",
    "    elif arr.ndim == 3:\n",
    "        format, cmap = 'jpg', None\n",
    "    else:\n",
    "        raise ValueError(\"Only 2- or 3-d arrays can be displayed as images.\")\n",
    "    # Don't let matplotlib autoscale the color range so we can control overall luminosity\n",
    "    vmax = 255 if arr.dtype == 'uint8' else 1.0\n",
    "    with BytesIO() as buffer:\n",
    "        mpl.image.imsave(buffer, arr, format=format, cmap=cmap, vmin=0, vmax=vmax)\n",
    "        out = buffer.getvalue()\n",
    "    return out"
   ]
  },
  {
   "cell_type": "markdown",
   "metadata": {},
   "source": [
    "# Defining functions to create the Environment"
   ]
  },
  {
   "cell_type": "code",
   "execution_count": 4,
   "metadata": {},
   "outputs": [],
   "source": [
    "## Parameters for drawing the map\n",
    "\n",
    "# The values correspond to the values we will plot the map with.\n",
    "\n",
    "WALL_MAP_VALUE = 1\n",
    "REWARD_MAP_VALUE = 2\n",
    "EXIT_MAP_VALUE = 3\n",
    "\n",
    "\n",
    "REWARD_SPARSITY = 0.1  \n",
    "\n",
    "# The reward sparsity controls how many pixels will contain rewards. A reward sparsity of 0.1 means about 10% of the \n",
    "# pixels on average will contain rewards.                "
   ]
  },
  {
   "cell_type": "markdown",
   "metadata": {},
   "source": [
    "In the report, we refer to a corridor with the term \"room\". The two terms are interchangeable."
   ]
  },
  {
   "cell_type": "code",
   "execution_count": 5,
   "metadata": {
    "code_folding": [
     31
    ]
   },
   "outputs": [],
   "source": [
    "def create_corridor(CORRIDOR_SHAPE, SEED = 42):\n",
    "    \"\"\"creates an array corresponding to a corridor of the level\"\"\"\n",
    "    # instantiate corridor with rewards\n",
    "    np.random.seed(SEED)\n",
    "    corridor = np.random.choice([REWARD_MAP_VALUE, 0], size = CORRIDOR_SHAPE, p = [REWARD_SPARSITY, 1-REWARD_SPARSITY])\n",
    "\n",
    "    # add walls\n",
    "    SPACE = 5\n",
    "    GAP = 2\n",
    "    GAP_UP = -1\n",
    "    GAP_DOWN = -2\n",
    "\n",
    "    wall_x = SPACE\n",
    "    orientation = GAP_UP\n",
    "\n",
    "    while wall_x < CORRIDOR_SHAPE[0]:\n",
    "        if orientation == GAP_UP: \n",
    "            corridor[wall_x, GAP:] = WALL_MAP_VALUE\n",
    "            orientation = GAP_DOWN\n",
    "        elif orientation == GAP_DOWN:\n",
    "            corridor[wall_x, :-GAP] = WALL_MAP_VALUE\n",
    "            orientation = GAP_UP\n",
    "        wall_x += SPACE\n",
    "        \n",
    "    # place exit at the end of corridor and remove existing walls\n",
    "    corridor[-1, :] = 0\n",
    "    corridor[-1, CORRIDOR_SHAPE[1]//2] = EXIT_MAP_VALUE\n",
    "    \n",
    "        \n",
    "    return corridor\n",
    "\n",
    "def create_map(CORRIDOR_SHAPE, corridors):\n",
    "    \"\"\"creates a map from a list of corridors.\"\"\"\n",
    "    size = 2*CORRIDOR_SHAPE[0] + CORRIDOR_SHAPE[1] \n",
    "    center_xy = int((size - 1)/ 2)\n",
    "    \n",
    "    terrain = np.ones((size, size))\n",
    "    \n",
    "    # add right corridor\n",
    "    if True:\n",
    "        i = 0\n",
    "        start_x  = int(center_xy + (CORRIDOR_SHAPE[1])/2) + 1\n",
    "        end_x = int(start_x + CORRIDOR_SHAPE[0])\n",
    "\n",
    "        start_y = int(center_xy - (CORRIDOR_SHAPE[1]-1)/2)\n",
    "        end_y = int(start_y + CORRIDOR_SHAPE[1])\n",
    "\n",
    "        terrain[start_x:end_x, start_y : end_y] = rotate(corridors[i], angle = 90*i)\n",
    "    \n",
    "    # add top corridor\n",
    "    if True:\n",
    "        i = 1\n",
    "        start_x  = int(center_xy - (CORRIDOR_SHAPE[1]-1)/2)\n",
    "        end_x = int(start_x + CORRIDOR_SHAPE[1])\n",
    "\n",
    "        start_y = int(center_xy + (CORRIDOR_SHAPE[1]-1)/2) + 1\n",
    "        end_y = int(start_y + CORRIDOR_SHAPE[0])\n",
    "\n",
    "        terrain[start_x:end_x, start_y : end_y] = rotate(corridors[i], angle = 90*i)\n",
    "\n",
    "    # add left corridor\n",
    "    if True:\n",
    "        i = 2\n",
    "        start_x  = 0\n",
    "        end_x = int(start_x + CORRIDOR_SHAPE[0])\n",
    "\n",
    "        start_y = int(center_xy - (CORRIDOR_SHAPE[1]-1)/2) \n",
    "        end_y = int(start_y + CORRIDOR_SHAPE[1])\n",
    "\n",
    "        terrain[start_x:end_x, start_y : end_y] = rotate(corridors[i], angle = 90*i)\n",
    "\n",
    "    # add bottom corridor\n",
    "    if True:\n",
    "        i = 3\n",
    "        start_x  = int(center_xy - (CORRIDOR_SHAPE[1]-1)/2)\n",
    "        end_x = int(start_x + CORRIDOR_SHAPE[1])\n",
    "\n",
    "        end_y = int(center_xy - (CORRIDOR_SHAPE[1]-1)/2)\n",
    "        start_y = int(start_y - CORRIDOR_SHAPE[0])\n",
    "\n",
    "        terrain[start_x:end_x, start_y : end_y] = rotate(corridors[i], angle = 90*i)\n",
    "  \n",
    "    # add Fork from starting position\n",
    "    if True:\n",
    "        terrain[center_xy , center_xy - CORRIDOR_SHAPE[1]//2: center_xy + CORRIDOR_SHAPE[1] //2 + 1] = 0\n",
    "        terrain[center_xy - CORRIDOR_SHAPE[1]//2: center_xy + CORRIDOR_SHAPE[1] //2 + 1, center_xy] = 0\n",
    "        \n",
    "    return terrain\n",
    "    \n",
    "def create_env(CORRIDOR_SHAPE, SEEDS = [42, 43, 44, 45]):\n",
    "    \"\"\"creates both the corridors and the map.\"\"\"\n",
    "    corridors = [create_corridor(CORRIDOR_SHAPE, SEEDS[i]) for i in range(4)]\n",
    "    env = create_map(CORRIDOR_SHAPE, corridors)\n",
    "    return env\n",
    "    "
   ]
  },
  {
   "cell_type": "markdown",
   "metadata": {},
   "source": [
    "## Examples of maps we can generate"
   ]
  },
  {
   "cell_type": "code",
   "execution_count": 6,
   "metadata": {
    "scrolled": true
   },
   "outputs": [
    {
     "data": {
      "image/png": "[encoded data removed]",
      "text/plain": [
       "<Figure size 2160x720 with 3 Axes>"
      ]
     },
     "metadata": {
      "needs_background": "light"
     },
     "output_type": "display_data"
    }
   ],
   "source": [
    "SEEDS = [42, 43, 44, 45]\n",
    "CORRIDOR_SHAPE = (21, 11) # should be odd numbers for perfect symmetry\n",
    "\n",
    "plt.subplot(1, 3, 1)\n",
    "\n",
    "env = create_env((11, 5), SEEDS)\n",
    "plt.imshow(rotate(env, angle= 90))\n",
    "plt.axis('off')\n",
    "\n",
    "plt.subplot(1, 3, 2)\n",
    "\n",
    "env = create_env((21, 11), SEEDS)\n",
    "plt.imshow(rotate(env, angle= 90))\n",
    "plt.axis('off')\n",
    "\n",
    "plt.subplot(1, 3, 3)\n",
    "\n",
    "env = create_env((31, 21), SEEDS)\n",
    "plt.imshow(rotate(env, angle= 90))\n",
    "plt.axis('off')\n",
    "\n",
    "fig = plt.gcf()\n",
    "fig.set_size_inches(30,10)\n",
    "plt.savefig(\"procedural_environments.jpg\")"
   ]
  },
  {
   "cell_type": "markdown",
   "metadata": {},
   "source": [
    "### Yellow = Exit,     Green = Rewards,  Blue = Walls (unexplorable coordinates)"
   ]
  },
  {
   "cell_type": "code",
   "execution_count": 7,
   "metadata": {},
   "outputs": [
    {
     "data": {
      "image/png": "[encoded data removed]",
      "text/plain": [
       "<Figure size 432x288 with 4 Axes>"
      ]
     },
     "metadata": {
      "needs_background": "light"
     },
     "output_type": "display_data"
    }
   ],
   "source": [
    "corridors = [create_corridor(CORRIDOR_SHAPE, SEEDS[i]) for i in range(4)]\n",
    "for i, corridor in enumerate(corridors):\n",
    "    plt.subplot(1, 4, i+1)\n",
    "    plt.imshow(rotate(corridor.T, angle = 90*i))"
   ]
  },
  {
   "cell_type": "markdown",
   "metadata": {},
   "source": [
    "## Define Agent class"
   ]
  },
  {
   "cell_type": "code",
   "execution_count": 8,
   "metadata": {
    "code_folding": []
   },
   "outputs": [],
   "source": [
    "class Agent():\n",
    "    def __init__(self, CORRIDOR_SHAPE):\n",
    "        # The agent's location is initialized in the middle of the map\n",
    "        size = 2*CORRIDOR_SHAPE[0] + CORRIDOR_SHAPE[1] \n",
    "        center_xy = int((size - 1)/ 2)\n",
    "        self.x = center_xy\n",
    "        self.y = center_xy\n",
    "    \n",
    "    def action(self, choice):\n",
    "        if choice == 0:\n",
    "            # go left\n",
    "            self.__move__(-1, 0)\n",
    "        if choice == 1:\n",
    "            # go up\n",
    "            self.__move__(0, 1)\n",
    "        if choice == 2:\n",
    "            # go right:\n",
    "            self.__move__(1, 0)\n",
    "        if choice == 3:\n",
    "            # go down\n",
    "            self.__move__(0, -1)\n",
    "        return\n",
    "    \n",
    "    def __move__(self, x, y):\n",
    "        self.x += x\n",
    "        self.y += y\n",
    "        return\n",
    "    \n",
    "    def get_coords(self):\n",
    "        return (self.x, self.y)"
   ]
  },
  {
   "cell_type": "markdown",
   "metadata": {},
   "source": [
    "## Define Phase1 class for exploration"
   ]
  },
  {
   "cell_type": "code",
   "execution_count": 9,
   "metadata": {
    "code_folding": []
   },
   "outputs": [],
   "source": [
    "class Phase1():\n",
    "    def __init__(self, CORRIDOR_SHAPE = (21, 11), SEEDS = [42, 43, 44, 45], alpha = 0.6):\n",
    "        # HYPERPARAMETERS\n",
    "        self.EXPLORE_ITER          = 200\n",
    "        self.W1                    = 1    # weight of # of times chosen attribute\n",
    "        self.W2                    = 1    # weight of # of times seen attribute\n",
    "        self.W3                    = 1    # weight of # of times chosen since it has led to a new discovery attribute\n",
    "        self.P1                    = 2    \n",
    "        self.P2                    = 2    # powers of the attributes\n",
    "        self.P3                    = 2\n",
    "        self.E1                    = 1e-1   # constants for numerical stability. They avoid divison by 0 \n",
    "        self.E2                    = 1e-1   # and make sure the probability of choosing a cell is never 0.\n",
    "        self.WN_HORIZONTAL         = 10\n",
    "        self.WN_VERTICAL           = 10     # weights of the neighbors used for computing\n",
    "        self.WN_REWARD             = 100    # the Neighbor Score of a cell\n",
    "        \n",
    "        # Initialization\n",
    "        self.env = create_env(CORRIDOR_SHAPE, SEEDS)\n",
    "        self.MAX_SCORE = len(np.where(self.env == REWARD_MAP_VALUE)[0])\n",
    "        self.agent = Agent(CORRIDOR_SHAPE = CORRIDOR_SHAPE)\n",
    "        self.archive = {}               # contains the trajectory of actions leading to a cell\n",
    "        self.cell_attributes = {}       # contains the three attributes of the cells\n",
    "        self.cell_scores = {}           # contains the cell scores\n",
    "        self.cell_states = {}           # contains the state of the environment and the position of the agent\n",
    "        self.cell_cumulative_scores = {} # contains the cumulative score obtained at a given cell\n",
    "        self.xys = {}\n",
    "        \n",
    "        # ucb\n",
    "        self.num_trials = {}\n",
    "\n",
    "        # Add initial cell in the middle of the map to the archive\n",
    "        size = 2*CORRIDOR_SHAPE[0] + CORRIDOR_SHAPE[1] \n",
    "        center_xy = int((size - 1)/ 2)\n",
    "        cell_key = \"{},{}\".format(center_xy, center_xy)\n",
    "        \n",
    "        self.archive[cell_key] = []\n",
    "        self.cell_attributes[cell_key] = [0, 0, 0]\n",
    "        self.cell_scores[cell_key] = 1\n",
    "        self.cell_states[cell_key] = [self.env.copy(), self.agent.get_coords()]\n",
    "        self.cell_cumulative_scores[cell_key] = 0\n",
    "        self.xys[cell_key] = [(center_xy, center_xy)]\n",
    "        \n",
    "        # for ucb implementation\n",
    "        self.time = 1\n",
    "        self.alpha = alpha\n",
    "        self.num_trials[cell_key] = 1\n",
    "        \n",
    "    def choose_cell(self):\n",
    "        \"\"\"Chooses a cell randomly from the archive thanks to cell scores.\"\"\"\n",
    "        # reset seed\n",
    "        np.random.seed()\n",
    "        \n",
    "        keys = list(self.cell_scores.keys())\n",
    "        scores = [self.cell_scores[key] for key in keys]\n",
    "        trials = [self.num_trials[key] + 1 if key in self.num_trials else 1 for key in keys]\n",
    "\n",
    "        ucb = np.array(scores) + self.alpha * (np.log(self.time) / np.array(trials)) ** 0.5\n",
    "        #chosen_cell_key = np.random.choice(keys, size = 1, p = scores)[0]\n",
    "        chosen_cell_key = keys[np.argmax(ucb)]\n",
    "        chosen_cell_x = chosen_cell_key.split(',')[0]\n",
    "        chosen_cell_y = chosen_cell_key.split(',')[1]\n",
    "        \n",
    "        # update number of times a cell has been chosen as a cell to explore from\n",
    "        self.cell_attributes[chosen_cell_key][0] += 1\n",
    "        if chosen_cell_key in self.num_trials:\n",
    "            self.num_trials[chosen_cell_key] += 1\n",
    "        else:\n",
    "            self.num_trials[chosen_cell_key] = 1\n",
    "        self.time += 1\n",
    "        \n",
    "        return (chosen_cell_x, chosen_cell_y)\n",
    "    \n",
    "    def store_cell(self, c, trajectory, cumulative_score, agent_xy):\n",
    "        \"\"\"Adds a cell c and the trajectory of actions that led to c to the archive.\"\"\"\n",
    "        cell_key = \"{},{}\".format(c[0], c[1])\n",
    "        \n",
    "        self.xys[cell_key] = agent_xy.copy()\n",
    "        self.archive[cell_key] = trajectory.copy()\n",
    "        self.cell_cumulative_scores[cell_key] = cumulative_score\n",
    "        self.cell_states[cell_key] = [self.env.copy(), self.agent.get_coords()]\n",
    "        \n",
    "        try:\n",
    "            # assert if cell was already in the archive. This is done to keep the attributes of the cell intact.\n",
    "            len(self.cell_attributes[cell_key])\n",
    "        except:\n",
    "            # if the cell was not in the archive then we set its attributes to 0 and its score to 0\n",
    "            self.cell_attributes[cell_key] = [0, 0, 0]\n",
    "            self.cell_scores[cell_key] = 0\n",
    "            \n",
    "        return\n",
    "        \n",
    "    def should_store(self, c, trajectory, cumulative_score, agent_xy):\n",
    "        \"\"\"Assesses whether a cell c and the trajectory of actions that led to c shoud be stored in the archive.\"\"\"\n",
    "        cell_key = \"{},{}\".format(c[0], c[1])\n",
    "        \n",
    "        # if the cell was not in the archive it should be stored.\n",
    "        if not cell_key in list(self.archive.keys()):\n",
    "            return True\n",
    "        \n",
    "        # if the cell was already in the archive then it should be added if \n",
    "        #    i) the trajectory is shorter\n",
    "        #   ii) the cumulative score is higher\n",
    "\n",
    "        length_old_trajectory = len(self.xys[cell_key])\n",
    "        length_new_trajectory = len(agent_xy)\n",
    "\n",
    "        if length_new_trajectory < length_old_trajectory:\n",
    "            if cumulative_score >= self.cell_cumulative_scores[cell_key]:\n",
    "                return True\n",
    "\n",
    "        if cumulative_score > self.cell_cumulative_scores[cell_key]:\n",
    "            return True        \n",
    "        return False\n",
    "        \n",
    "        \n",
    "    def explore(self):\n",
    "        \"\"\"Launches exploration procedure.\"\"\"\n",
    "        # reset seed\n",
    "        np.random.seed()\n",
    "        \n",
    "        self.agent = Agent(self.env.shape)\n",
    "        starting_cell = self.choose_cell()\n",
    "        starting_cell_key = \"{},{}\".format(starting_cell[0], starting_cell[1])\n",
    "        \n",
    "        self.agent.x = self.cell_states[starting_cell_key][1][0]\n",
    "        self.agent.y = self.cell_states[starting_cell_key][1][1]\n",
    "        self.env = self.cell_states[starting_cell_key][0].copy()\n",
    "        cumulative_score = self.cell_cumulative_scores[starting_cell_key]\n",
    "        trajectory = self.archive[starting_cell_key].copy()\n",
    "        agent_xy = self.xys[starting_cell_key].copy()\n",
    "\n",
    "        has_discovered = False\n",
    "        \n",
    "        oob_x = np.where(self.env[0] == 1)[0]\n",
    "        oob_y = np.where(self.env[:,0] == 1)[0]\n",
    "\n",
    "        oob = []\n",
    "        for x in oob_x:\n",
    "            for y in oob_y:\n",
    "                oob.append((x, y))\n",
    "        \n",
    "        # Launch exploration\n",
    "        for k in range(self.EXPLORE_ITER):\n",
    "            # assess if oob\n",
    "            if (self.agent.x, self.agent.y) in oob:\n",
    "                print(\"OUT OF BOUNDS\")\n",
    "            \n",
    "            \n",
    "            # assess available actions\n",
    "            possible_actions, _ = self.get_possible_actions(self.agent.x, self.agent.y)\n",
    "            n = len(possible_actions)\n",
    "            \n",
    "            # choose an action randomly\n",
    "            choice = np.random.choice(possible_actions, size = 1, p = [1/n] * n)[0]\n",
    "            self.agent.action(choice)\n",
    "                        \n",
    "            # assess if agent has left the map\n",
    "            if self.env[self.agent.x, self.agent.y] == EXIT_MAP_VALUE:\n",
    "                break\n",
    "            \n",
    "            # update cell metadata\n",
    "            reward = self.get_reward()\n",
    "            if reward == 1:\n",
    "                cumulative_score += reward\n",
    "                self.env[self.agent.x, self.agent.y] = 0\n",
    "    \n",
    "            trajectory.append(choice)\n",
    "            agent_xy.append(self.agent.get_coords())\n",
    "            c = (self.agent.x, self.agent.y)\n",
    "            cell_key =\"{},{}\".format(c[0], c[1])\n",
    "            \n",
    "            # store cell\n",
    "            if self.should_store(c, trajectory, cumulative_score, agent_xy):\n",
    "                self.store_cell(c, trajectory, cumulative_score, agent_xy)\n",
    "                # reset number of times a cell has been chosen since it last produced the discovery of a new or better cell\n",
    "                self.cell_attributes[starting_cell_key][2] = 0\n",
    "                has_discovered = True\n",
    "            \n",
    "            # update number of times a cell was visited at any point during phase 1\n",
    "            self.cell_attributes[cell_key][1] += 1\n",
    "        ### END OF EXPLORATION\n",
    "        \n",
    "        # update number of times the starting cell has been chosen since it last produced the discovery of a new or better cell\n",
    "        if has_discovered == False:\n",
    "            self.cell_attributes[starting_cell_key][2] += 1\n",
    "        \n",
    "        self.compute_cell_scores()\n",
    "        return\n",
    "            \n",
    "    def get_reward(self):\n",
    "        \"\"\"\n",
    "        If the agent's location contains a reward, the reward is removed\n",
    "        from the map and the value of the reward is returned.\n",
    "        \"\"\"\n",
    "        x, y = self.agent.x, self.agent.y\n",
    "        if self.env[x, y] == REWARD_MAP_VALUE:\n",
    "            return 1\n",
    "        else:\n",
    "            return 0\n",
    "            \n",
    "    def get_possible_actions(self, x, y):\n",
    "        \"\"\"\n",
    "        Assesses the possible actions available to the agent at location (x,y). For each action, \n",
    "        we assess if by taking this action the agent will still be in the bounds of the map\n",
    "        and if it will not land in the wall.\n",
    "        We also return the neighboring locations as they will be useful to compute the Neighbor Score\n",
    "        of each cell.\n",
    "        \n",
    "        \"\"\"        \n",
    "        choices = []\n",
    "        neighbors = []\n",
    "        if x - 1 >= 0:\n",
    "            if self.env[x-1, y] != WALL_MAP_VALUE:\n",
    "                choices.append(0)\n",
    "                neighbors.append((x-1, y))\n",
    "        \n",
    "        if y + 1 < self.env.shape[1]:\n",
    "            if self.env[x, y+1] != WALL_MAP_VALUE:\n",
    "                choices.append(1)\n",
    "                neighbors.append((x, y+1))\n",
    "        \n",
    "        if x + 1 < self.env.shape[0]:\n",
    "            if self.env[x+1, y] != WALL_MAP_VALUE:\n",
    "                choices.append(2)\n",
    "                neighbors.append((x+1, y))\n",
    "        \n",
    "        if y - 1 >= 0:\n",
    "            if self.env[x, y-1] != WALL_MAP_VALUE:\n",
    "                choices.append(3)\n",
    "                neighbors.append((x, y-1))\n",
    "                \n",
    "        return choices, neighbors\n",
    "    \n",
    "    def cell_count_score(self, c):\n",
    "        \"\"\"Computes the Count Score of a given cell.\"\"\"\n",
    "        cell_key = \"{},{}\".format(c[0], c[1])\n",
    "        attribute_values = np.array(self.cell_attributes[cell_key])\n",
    "        attribute_weights = np.array([self.W1, self.W2, self.W3])\n",
    "        attribute_powers = np.array([self.P1, self.P2, self.P3])\n",
    "        \n",
    "        scores = attribute_weights * ((attribute_values + self.E1)**-attribute_powers)\n",
    "        \n",
    "        return scores.sum() + self.E2\n",
    "        \n",
    "    def cell_neighbor_score(self, c):\n",
    "        \"\"\"Computes the Neighbor Score of a given cell.\"\"\"\n",
    "        _, neighbors = self.get_possible_actions(*c)\n",
    "        scores = np.zeros(4)\n",
    "        \n",
    "        for i,neighbor in enumerate(neighbors):\n",
    "            try:\n",
    "                neighbor_key = \"{},{}\".format(neighbor[0], neighbor[1])\n",
    "                len(self.archive[neighbor_key])\n",
    "            except:\n",
    "                # if this neighbor is new add associated score\n",
    "                if self.env[neighbor] == REWARD_MAP_VALUE:\n",
    "                    scores[i] = self.WN_REWARD\n",
    "                elif i == 0 or i == 2:\n",
    "                    scores[i] = self.WN_HORIZONTAL\n",
    "                else:\n",
    "                    scores[i] = self.WN_VERTICAL\n",
    "        return scores.sum()\n",
    "    \n",
    "    def compute_cell_scores(self):\n",
    "        \"\"\"Computes the scores of every cell in the archive.\"\"\"\n",
    "        cell_keys = list(self.archive.keys())\n",
    "        cell_scores = np.zeros(len(cell_keys))\n",
    "        \n",
    "        for i,cell_key in enumerate(cell_keys):\n",
    "            c = (int(cell_key.split(',')[0]), int(cell_key.split(',')[1]))\n",
    "            cell_scores[i] = self.cell_count_score(c) + self.cell_neighbor_score(c) + 1\n",
    "        \n",
    "        # cell_scores = cell_scores / cell_scores.sum()\n",
    "        for i, cell_key in enumerate(cell_keys):\n",
    "            self.cell_scores[cell_key] = cell_scores[i]        \n",
    "        \n",
    "        return"
   ]
  },
  {
   "cell_type": "markdown",
   "metadata": {},
   "source": [
    "### Some functions"
   ]
  },
  {
   "cell_type": "code",
   "execution_count": 31,
   "metadata": {
    "code_folding": [
     82,
     89,
     96
    ]
   },
   "outputs": [],
   "source": [
    "def get_best_trajectory(phase1):\n",
    "    \"\"\"Returns a the (x,y) tuples of the trajectory that got the best score\"\"\"\n",
    "    max_score = -1\n",
    "    cell = next(iter(phase1.cell_cumulative_scores.keys()))\n",
    "    for key, value in phase1.cell_cumulative_scores.items():\n",
    "        if value >= max_score and len(phase1.xys[key]) < len(phase1.xys[cell]):\n",
    "            cell = key\n",
    "        elif value > max_score:\n",
    "            max_score = value\n",
    "            cell = key\n",
    "\n",
    "    path = phase1.xys[cell]\n",
    "    real_trajectory_x = []\n",
    "    real_trajectory_y = []\n",
    "\n",
    "    for xy in path:\n",
    "        real_trajectory_x.append(xy[0])\n",
    "        real_trajectory_y.append(xy[1])\n",
    "\n",
    "    real_trajectory_x = tuple(real_trajectory_x)\n",
    "    real_trajectory_y = tuple(real_trajectory_y)\n",
    "\n",
    "    real_trajectory = tuple([real_trajectory_x, real_trajectory_y])\n",
    "    return real_trajectory\n",
    "\n",
    "def get_best_trajectory_matrix(phase1):\n",
    "    \"returns the best trajectory plotted on the map\"\n",
    "    max_score = -1\n",
    "    cell = next(iter(phase1.cell_cumulative_scores.keys()))\n",
    "    for key, value in phase1.cell_cumulative_scores.items():\n",
    "        if value >= max_score and len(phase1.xys[key]) < len(phase1.xys[cell]):\n",
    "            cell = key\n",
    "        elif value > max_score:\n",
    "            max_score = value\n",
    "            cell = key\n",
    "\n",
    "    path = phase1.xys[cell]\n",
    "    real_trajectory_x = []\n",
    "    real_trajectory_y = []\n",
    "\n",
    "    for xy in path:\n",
    "        real_trajectory_x.append(xy[0])\n",
    "        real_trajectory_y.append(xy[1])\n",
    "\n",
    "    real_trajectory_x = tuple(real_trajectory_x)\n",
    "    real_trajectory_y = tuple(real_trajectory_y)\n",
    "    real_trajectory = tuple([real_trajectory_x, real_trajectory_y])\n",
    "\n",
    "    env2 = phase1.cell_states[cell][0].copy()\n",
    "    env2[real_trajectory] = EXIT_MAP_VALUE\n",
    "    env2 = (env2 - env2.min()) / env2.max() * 255\n",
    "    return env2\n",
    "\n",
    "def get_neighbor_score_matrix(phase1):\n",
    "    \"returns the neighbor scores of the cells plotted against the map\"\n",
    "    score_matrix = np.zeros(phase1.env.shape)\n",
    "    for key in phase1.cell_scores.keys():\n",
    "        x = int(key.split(\",\")[0])\n",
    "        y = int(key.split(\",\")[1])\n",
    "        score_matrix[x, y] = phase1.cell_neighbor_score((x, y))\n",
    "\n",
    "    min_score = score_matrix[score_matrix > 0].min()\n",
    "    max_score = score_matrix.max()\n",
    "    score_matrix = (score_matrix - min_score) / max_score\n",
    "\n",
    "    return score_matrix\n",
    "\n",
    "def get_score_matrix(phase1):\n",
    "    \"returns the cell scores plotted against the map\"\n",
    "    score_matrix = np.zeros(phase1.env.shape)\n",
    "\n",
    "    for key, value in phase1.cell_scores.items():\n",
    "        x = int(key.split(\",\")[0])\n",
    "        y = int(key.split(\",\")[1])\n",
    "        score_matrix[x, y] = value\n",
    "\n",
    "    min_score = score_matrix[score_matrix > 0].min()\n",
    "    max_score = score_matrix.max()\n",
    "    # print(min_score, max_score)\n",
    "    score_matrix = (score_matrix - min_score) / max_score * 255\n",
    "    return score_matrix\n",
    "\n",
    "def save_score_matrix(phase1, i):\n",
    "    score_matrix = get_score_matrix(phase1)\n",
    "    score_matrix = np.array(Image.fromarray(score_matrix).resize((512, 512)))\n",
    "    path = \"./score_results/score_matrix/score_matrix_\" + str(i) + \".jpg\"\n",
    "    plt.imsave(path, score_matrix, cmap='gray')\n",
    "    return path\n",
    "\n",
    "def save_neighbor_score_matrix(phase1, i):\n",
    "    score_matrix = get_neighbor_score_matrix(phase1)\n",
    "    score_matrix = np.array(Image.fromarray(score_matrix).resize((512, 512)))\n",
    "    path = \"./score_results/neigh_score_matrix/score_matrix_\" + str(i) + \".jpg\"\n",
    "    plt.imsave(path, score_matrix, cmap='gray')\n",
    "    return path\n",
    "\n",
    "def save_trajectory(phase1, i):\n",
    "    trajectory = get_best_trajectory(phase1)\n",
    "    env = phase1.env.copy()\n",
    "    env[trajectory] = EXIT_MAP_VALUE\n",
    "    env = np.array(Image.fromarray(env).resize((512, 512)))\n",
    "    plt.imsave(\"./score_results/trajectory/trajectory_\" + str(i) + \".jpg\",\n",
    "               env, cmap='gray')\n",
    "\n",
    "def save_score_history(avg_score, variance, alpha, test_name=\"ucb_test\"):\n",
    "    x = [i+1 for i in range(len(avg_score))]\n",
    "    plt.clf()\n",
    "    plt.plot(x, avg_score, color='#1B2ACC')\n",
    "    plt.fill_between(x, avg_score - variance, avg_score + variance, alpha = 0.4, facecolor='#089FFF')\n",
    "    plt.title(\"Trajectory Max Score Versus Time\")\n",
    "    plt.xlabel(\"Trajectory number\")\n",
    "    plt.ylabel(\"Average score with variance\")\n",
    "    plt.savefig(\"./score_results/score_history_graphs/\"+ test_name + \"/score_history_\" + str(alpha) + \".jpg\")"
   ]
  },
  {
   "cell_type": "code",
   "execution_count": 32,
   "metadata": {
    "scrolled": true
   },
   "outputs": [
    {
     "name": "stderr",
     "output_type": "stream",
     "text": [
      "c:\\Users\\joe\\AppData\\Local\\Programs\\Python\\Python37\\lib\\site-packages\\ipykernel_launcher.py:35: TqdmDeprecationWarning: This function will be removed in tqdm==5.0.0\n",
      "Please use `tqdm.notebook.tqdm` instead of `tqdm.tqdm_notebook`\n"
     ]
    },
    {
     "data": {
      "application/json": {
       "ascii": false,
       "bar_format": "{l_bar}{bar}{r_bar}",
       "colour": null,
       "elapsed": 0.017499923706054688,
       "initial": 0,
       "n": 0,
       "ncols": null,
       "nrows": null,
       "postfix": null,
       "prefix": "",
       "rate": null,
       "total": 10,
       "unit": "it",
       "unit_divisor": 1000,
       "unit_scale": false
      },
      "application/vnd.jupyter.widget-view+json": {
       "model_id": "f93c225167b54c1f9b5230711fc4b686",
       "version_major": 2,
       "version_minor": 0
      },
      "text/plain": [
       "  0%|          | 0/10 [00:00<?, ?it/s]"
      ]
     },
     "metadata": {},
     "output_type": "display_data"
    },
    {
     "data": {
      "application/json": {
       "ascii": false,
       "bar_format": "{l_bar}{bar}{r_bar}",
       "colour": null,
       "elapsed": 0.017502546310424805,
       "initial": 0,
       "n": 0,
       "ncols": null,
       "nrows": null,
       "postfix": null,
       "prefix": "",
       "rate": null,
       "total": 10,
       "unit": "it",
       "unit_divisor": 1000,
       "unit_scale": false
      },
      "application/vnd.jupyter.widget-view+json": {
       "model_id": "e2f119bec6b04c3da5dfb8d63ef5d40d",
       "version_major": 2,
       "version_minor": 0
      },
      "text/plain": [
       "  0%|          | 0/10 [00:00<?, ?it/s]"
      ]
     },
     "metadata": {},
     "output_type": "display_data"
    },
    {
     "name": "stdout",
     "output_type": "stream",
     "text": [
      "(2, 10) (10,) (10,)\n"
     ]
    },
    {
     "data": {
      "application/json": {
       "ascii": false,
       "bar_format": "{l_bar}{bar}{r_bar}",
       "colour": null,
       "elapsed": 0.023495912551879883,
       "initial": 0,
       "n": 0,
       "ncols": null,
       "nrows": null,
       "postfix": null,
       "prefix": "",
       "rate": null,
       "total": 10,
       "unit": "it",
       "unit_divisor": 1000,
       "unit_scale": false
      },
      "application/vnd.jupyter.widget-view+json": {
       "model_id": "fb92c671ee264f699be4db6b7d8a79d8",
       "version_major": 2,
       "version_minor": 0
      },
      "text/plain": [
       "  0%|          | 0/10 [00:00<?, ?it/s]"
      ]
     },
     "metadata": {},
     "output_type": "display_data"
    },
    {
     "data": {
      "application/json": {
       "ascii": false,
       "bar_format": "{l_bar}{bar}{r_bar}",
       "colour": null,
       "elapsed": 0.015001535415649414,
       "initial": 0,
       "n": 0,
       "ncols": null,
       "nrows": null,
       "postfix": null,
       "prefix": "",
       "rate": null,
       "total": 10,
       "unit": "it",
       "unit_divisor": 1000,
       "unit_scale": false
      },
      "application/vnd.jupyter.widget-view+json": {
       "model_id": "52c3378c246f45c09df217ece80f551b",
       "version_major": 2,
       "version_minor": 0
      },
      "text/plain": [
       "  0%|          | 0/10 [00:00<?, ?it/s]"
      ]
     },
     "metadata": {},
     "output_type": "display_data"
    },
    {
     "name": "stdout",
     "output_type": "stream",
     "text": [
      "(2, 10) (10,) (10,)\n"
     ]
    },
    {
     "data": {
      "application/json": {
       "ascii": false,
       "bar_format": "{l_bar}{bar}{r_bar}",
       "colour": null,
       "elapsed": 0.017520427703857422,
       "initial": 0,
       "n": 0,
       "ncols": null,
       "nrows": null,
       "postfix": null,
       "prefix": "",
       "rate": null,
       "total": 10,
       "unit": "it",
       "unit_divisor": 1000,
       "unit_scale": false
      },
      "application/vnd.jupyter.widget-view+json": {
       "model_id": "7f4f9ff2bf224a7d9d4fff087c1b8c93",
       "version_major": 2,
       "version_minor": 0
      },
      "text/plain": [
       "  0%|          | 0/10 [00:00<?, ?it/s]"
      ]
     },
     "metadata": {},
     "output_type": "display_data"
    },
    {
     "data": {
      "application/json": {
       "ascii": false,
       "bar_format": "{l_bar}{bar}{r_bar}",
       "colour": null,
       "elapsed": 0.015001058578491211,
       "initial": 0,
       "n": 0,
       "ncols": null,
       "nrows": null,
       "postfix": null,
       "prefix": "",
       "rate": null,
       "total": 10,
       "unit": "it",
       "unit_divisor": 1000,
       "unit_scale": false
      },
      "application/vnd.jupyter.widget-view+json": {
       "model_id": "eaed1565be7b4d8b9004c13468ad79b6",
       "version_major": 2,
       "version_minor": 0
      },
      "text/plain": [
       "  0%|          | 0/10 [00:00<?, ?it/s]"
      ]
     },
     "metadata": {},
     "output_type": "display_data"
    },
    {
     "name": "stdout",
     "output_type": "stream",
     "text": [
      "(2, 10) (10,) (10,)\n"
     ]
    },
    {
     "data": {
      "image/png": "[encoded data removed]",
      "text/plain": [
       "<Figure size 432x288 with 1 Axes>"
      ]
     },
     "metadata": {
      "needs_background": "light"
     },
     "output_type": "display_data"
    }
   ],
   "source": [
    "CORRIDOR_SHAPE = (21, 11) ## needs to be odd\n",
    "N_TRIALS = 2\n",
    "N_STEPS = 10\n",
    "SAVE_EVERY = 10\n",
    "REFRESH_EVERY = 10\n",
    "\n",
    "for alpha_val in [0.01, 0.1, 0.5]:\n",
    "    scores = [] \n",
    "    for trial_num in range(N_TRIALS):\n",
    "\n",
    "        phase1 = Phase1(CORRIDOR_SHAPE, alpha = alpha_val)\n",
    "        # The cell scores and the best trajectory found are saved during the run. The results are found in the folders\n",
    "        # \"score_matrix\" and \"trajectory\"\n",
    "\n",
    "        # Widgets for dynamically vizualising the state of phase 1\n",
    "        neighscore_widget = widgets.Image(\n",
    "            value=arr2bytes(np.array(Image.fromarray(get_neighbor_score_matrix(phase1)).resize((512,512)))),\n",
    "            format='jpg',\n",
    "            width=256,\n",
    "            height=256,\n",
    "        )\n",
    "\n",
    "        trajectory_widget = widgets.Image(\n",
    "            value=arr2bytes(np.array(Image.fromarray(get_best_trajectory_matrix(phase1)).resize((512,512)))),\n",
    "            format='jpg',\n",
    "            width=256,\n",
    "            height=256,\n",
    "        )\n",
    "\n",
    "\n",
    "        # display(widgets.HBox([neighscore_widget, trajectory_widget]))\n",
    "\n",
    "        ## Exploration loop\n",
    "        best_scores = []\n",
    "        for i in tqdm_notebook(range(N_STEPS)):\n",
    "            if i % SAVE_EVERY == 0:\n",
    "                save_path = save_score_matrix(phase1, i)\n",
    "                save_trajectory(phase1, i)\n",
    "                \n",
    "            if i % REFRESH_EVERY == 0:\n",
    "                neighscore_widget.value=arr2bytes((np.array(Image.fromarray(get_score_matrix(phase1)).resize((256,256)))))\n",
    "                trajectory_widget.value=arr2bytes((np.array(Image.fromarray(get_best_trajectory_matrix(phase1)).resize((256,256)))))\n",
    "            \n",
    "            phase1.explore()\n",
    "            \n",
    "            best_score = max(phase1.cell_cumulative_scores.values())\n",
    "            best_scores.append(best_score)\n",
    "        best_scores = np.array(best_scores)\n",
    "        scores.append(best_scores)\n",
    "        # Finding the trajectory that solves the game\n",
    "        max_score = -1\n",
    "        cell = next(iter(phase1.cell_cumulative_scores.keys()))\n",
    "        for key, value in phase1.cell_cumulative_scores.items():\n",
    "            if value >= max_score and len(phase1.xys[key]) < len(phase1.xys[cell]):\n",
    "                cell = key\n",
    "            elif value > max_score:\n",
    "                max_score = value\n",
    "                cell = key\n",
    "\n",
    "        path = phase1.xys[cell]\n",
    "        real_trajectory_x = []\n",
    "        real_trajectory_y = []\n",
    "\n",
    "        for xy in path:\n",
    "            real_trajectory_x.append(xy[0])\n",
    "            real_trajectory_y.append(xy[1])\n",
    "            \n",
    "        real_trajectory_x = tuple(real_trajectory_x)\n",
    "        real_trajectory_y = tuple(real_trajectory_y)\n",
    "\n",
    "        real_trajectory = tuple([real_trajectory_x, real_trajectory_y])\n",
    "    \n",
    "    # create plot:\n",
    "    scores = np.concatenate(scores, axis = 0).reshape(N_TRIALS,N_STEPS)\n",
    "    mean = np.mean(scores, axis = 0)\n",
    "    var = np.var(scores, axis = 0)\n",
    "    print(scores.shape, mean.shape, var.shape)\n",
    "    save_score_history(mean, var, alpha_val)\n",
    "\n",
    "            "
   ]
  },
  {
   "cell_type": "markdown",
   "metadata": {},
   "source": [
    "LEFT: Cell scores, RIGHT: Best Trajectory found\n",
    "\n",
    "These are better seen in the saved images as the widgets do not easily support different shades of gray."
   ]
  },
  {
   "cell_type": "markdown",
   "metadata": {},
   "source": [
    "## Animate Exploration"
   ]
  },
  {
   "cell_type": "code",
   "execution_count": 19,
   "metadata": {},
   "outputs": [],
   "source": [
    "### Make GIF of run\n",
    "import imageio\n",
    "import glob\n",
    "import re\n",
    "path = './'\n",
    "filenames1 = [f for f in glob.glob(path + \"score_matrix/*\", recursive=True)]\n",
    "filenames2 = [f for f in glob.glob(path + \"trajectory/*\", recursive=True)]\n",
    "\n",
    "# drop every ten frames:\n",
    "filenames1= [filenames1[i] for i in range(len(filenames1)) if i%10]\n",
    "filenames2= [filenames2[i] for i in range(len(filenames2)) if i%10]\n",
    "sort_nicely(filenames1)\n",
    "sort_nicely(filenames2)\n",
    "\n",
    "with imageio.get_writer('run2.gif', mode='I') as writer:\n",
    "    for filename1, filename2 in zip(filenames1, filenames2):\n",
    "        image1 = imageio.imread(filename1)\n",
    "        image2 = imageio.imread(filename2)\n",
    "        writer.append_data(np.concatenate([image1, image2], axis=1))"
   ]
  },
  {
   "cell_type": "markdown",
   "metadata": {},
   "source": [
    "## Save Best Run"
   ]
  },
  {
   "cell_type": "code",
   "execution_count": 49,
   "metadata": {},
   "outputs": [],
   "source": [
    "best_run = phase1.archive[cell]"
   ]
  },
  {
   "cell_type": "code",
   "execution_count": 50,
   "metadata": {},
   "outputs": [],
   "source": [
    "with open(\"best_run.csv\", \"w\") as file:\n",
    "    for i in range(len(best_run)):\n",
    "        string  = str(best_run[i]) + \",\\n\"\n",
    "        file.write(string)"
   ]
  },
  {
   "cell_type": "markdown",
   "metadata": {},
   "source": [
    "## Import Best Run"
   ]
  },
  {
   "cell_type": "code",
   "execution_count": 53,
   "metadata": {},
   "outputs": [],
   "source": [
    "import pandas as pd\n",
    "X = pd.read_csv(\"best_run.csv\", header = None)\n",
    "best_run1 = X.drop([1], axis = 1).to_numpy().flatten()"
   ]
  },
  {
   "cell_type": "code",
   "execution_count": 54,
   "metadata": {},
   "outputs": [
    {
     "data": {
      "text/plain": [
       "True"
      ]
     },
     "execution_count": 54,
     "metadata": {},
     "output_type": "execute_result"
    }
   ],
   "source": [
    "(best_run == best_run1).all()"
   ]
  },
  {
   "cell_type": "markdown",
   "metadata": {},
   "source": [
    "## Animate Best Run"
   ]
  },
  {
   "cell_type": "markdown",
   "metadata": {},
   "source": [
    "### Save frames of the run"
   ]
  },
  {
   "cell_type": "code",
   "execution_count": 71,
   "metadata": {},
   "outputs": [
    {
     "name": "stderr",
     "output_type": "stream",
     "text": [
      "C:\\Users\\mjh24\\AppData\\Local\\Temp/ipykernel_6536/3207157767.py:19: TqdmDeprecationWarning: This function will be removed in tqdm==5.0.0\n",
      "Please use `tqdm.notebook.tqdm` instead of `tqdm.tqdm_notebook`\n",
      "  for i in tqdm_notebook(range(len(agent_xy))):\n"
     ]
    },
    {
     "data": {
      "application/vnd.jupyter.widget-view+json": {
       "model_id": "3b2acf259a4c41b3ad17daa4c3c4b583",
       "version_major": 2,
       "version_minor": 0
      },
      "text/plain": [
       "  0%|          | 0/5473 [00:00<?, ?it/s]"
      ]
     },
     "metadata": {},
     "output_type": "display_data"
    }
   ],
   "source": [
    "SEEDS = [42, 43, 44, 45]\n",
    "CORRIDOR_SHAPE = (21, 11) # should be odd numbers for perfect symmetry\n",
    "\n",
    "# Find cell that solves the game\n",
    "max_score = -1\n",
    "cell = next(iter(phase1.cell_cumulative_scores.keys()))\n",
    "for key, value in phase1.cell_cumulative_scores.items():\n",
    "    if value >= max_score and len(phase1.xys[key]) < len(phase1.xys[cell]):\n",
    "        cell = key\n",
    "    elif value > max_score:\n",
    "        max_score = value\n",
    "        cell = key\n",
    "\n",
    "agent_xy = phase1.xys[cell]\n",
    "trajectory_tail = 60\n",
    "alphas = np.linspace(0, 1, 61) ** 2\n",
    "\n",
    "# Save images of the agent's location and state of the game\n",
    "for i in tqdm_notebook(range(len(agent_xy))):\n",
    "    env = create_env(CORRIDOR_SHAPE, SEEDS)\n",
    "    tail = np.array(agent_xy[max(0, i-trajectory_tail):i+1])\n",
    "    tail = (tuple(tail[:,0]), tuple(tail[:,1]))\n",
    "\n",
    "    trajectory = np.array(agent_xy[:i+1])\n",
    "    trajectory = (tuple(trajectory[:,0]), tuple(trajectory[:,1]))\n",
    "\n",
    "    env[trajectory] = 0\n",
    "    env[tail] = EXIT_MAP_VALUE * alphas[-min(trajectory_tail + 1, i+1):]\n",
    "    env = np.array(Image.fromarray(env).resize((512, 512)))\n",
    "    plt.imsave(\"./best_run/trajectory_{}.jpg\".format(i), env, cmap = 'gray')\n",
    "    \n"
   ]
  },
  {
   "cell_type": "markdown",
   "metadata": {},
   "source": [
    "### Make GIF from frames "
   ]
  },
  {
   "cell_type": "code",
   "execution_count": 72,
   "metadata": {},
   "outputs": [
    {
     "name": "stderr",
     "output_type": "stream",
     "text": [
      "C:\\Users\\mjh24\\AppData\\Local\\Temp/ipykernel_6536/2663405847.py:7: TqdmDeprecationWarning: This function will be removed in tqdm==5.0.0\n",
      "Please use `tqdm.notebook.tqdm` instead of `tqdm.tqdm_notebook`\n",
      "  for filename in tqdm_notebook(filenames):\n"
     ]
    },
    {
     "data": {
      "application/vnd.jupyter.widget-view+json": {
       "model_id": "d95668b90a10418ba3b76b143a41122a",
       "version_major": 2,
       "version_minor": 0
      },
      "text/plain": [
       "  0%|          | 0/5473 [00:00<?, ?it/s]"
      ]
     },
     "metadata": {},
     "output_type": "display_data"
    },
    {
     "name": "stderr",
     "output_type": "stream",
     "text": [
      "C:\\Users\\mjh24\\AppData\\Local\\Temp/ipykernel_6536/2663405847.py:8: DeprecationWarning: Starting with ImageIO v3 the behavior of this function will switch to that of iio.v3.imread. To keep the current behavior (and make this warning disappear) use `import imageio.v2 as imageio` or call `imageio.v2.imread` directly.\n",
      "  image = imageio.imread(filename)\n"
     ]
    }
   ],
   "source": [
    "path = './'\n",
    "filenames = [f for f in glob.glob(path + \"best_run/*\", recursive=True)]\n",
    "sort_nicely(filenames)\n",
    "\n",
    "\n",
    "with imageio.get_writer('agent_run.gif', mode='I', fps = 60) as writer:\n",
    "    for filename in tqdm_notebook(filenames):\n",
    "        image = imageio.imread(filename)\n",
    "        writer.append_data(image)"
   ]
  },
  {
   "cell_type": "markdown",
   "metadata": {},
   "source": [
    "## Experiments"
   ]
  },
  {
   "cell_type": "markdown",
   "metadata": {},
   "source": [
    "### Load experiments"
   ]
  },
  {
   "cell_type": "code",
   "execution_count": 12,
   "metadata": {},
   "outputs": [],
   "source": [
    "filenames = [f for f in glob.glob(\"./experiments/**\", recursive=True)]\n",
    "sort_nicely(filenames)\n",
    "_ = filenames.copy()\n",
    "for file in _:\n",
    "    if len(file) <= 20:\n",
    "        filenames.remove(file)\n",
    "filenames = list(dict.fromkeys(filenames))"
   ]
  },
  {
   "cell_type": "code",
   "execution_count": null,
   "metadata": {},
   "outputs": [],
   "source": [
    "shapes = [\"11_5\", \"21_11\", \"31_21\"]\n",
    "\n",
    "best_runs_score = {}\n",
    "\n",
    "for shape in shapes:\n",
    "    best_runs_score[shape] = []\n",
    "    for filename in tqdm_notebook(filenames):\n",
    "        if shape in filename:\n",
    "            file = open(filename, 'rb')\n",
    "            obj = pickle.load(file)\n",
    "            best_runs_score[shape].append(obj[1])\n",
    "            file.close()\n",
    "            "
   ]
  },
  {
   "cell_type": "code",
   "execution_count": null,
   "metadata": {},
   "outputs": [],
   "source": [
    "# Save scores to json\n",
    "import json\n",
    "\n",
    "with open('runs_scores.json', 'w') as fp:\n",
    "    json.dump(best_runs_score, fp)"
   ]
  },
  {
   "cell_type": "code",
   "execution_count": 10,
   "metadata": {},
   "outputs": [],
   "source": [
    "with open('./experiments/runs_scores.json') as handle:\n",
    "    runs_scores = json.loads(handle.read())"
   ]
  },
  {
   "cell_type": "code",
   "execution_count": 13,
   "metadata": {},
   "outputs": [],
   "source": [
    "shapes = [\"11_5\", \"21_11\", \"31_21\"]\n",
    "\n",
    "# Normalize scores\n",
    "for shape in shapes:\n",
    "    m = max(max(runs_scores[shape]))\n",
    "    for i,run in enumerate(runs_scores[shape]):\n",
    "        for j,value in enumerate(run):\n",
    "            runs_scores[shape][i][j] = value / m"
   ]
  },
  {
   "cell_type": "markdown",
   "metadata": {},
   "source": [
    "### Plotting experiments"
   ]
  },
  {
   "cell_type": "code",
   "execution_count": 14,
   "metadata": {
    "scrolled": false
   },
   "outputs": [
    {
     "data": {
      "image/png": "[encoded data removed]",
      "text/plain": [
       "<Figure size 720x432 with 1 Axes>"
      ]
     },
     "metadata": {
      "needs_background": "light"
     },
     "output_type": "display_data"
    }
   ],
   "source": [
    "colors = [\"red\", \"blue\", \"green\"]\n",
    "labels = [\"Shape = (11, 5)\", \"Shape = (21, 11)\", \"Shape = (31, 21)\"]\n",
    "for i, shape in enumerate(shapes):\n",
    "    for j,run in enumerate(runs_scores[shape]):\n",
    "        if j == 0:\n",
    "            plt.plot(np.arange(min(len(run), 30000)), run[:min(len(run), 30000)],\n",
    "                     color = colors[i], alpha = 0.5, label = labels[i])\n",
    "        else:\n",
    "            plt.plot(np.arange(min(len(run), 30000)), run[:min(len(run), 30000)],\n",
    "                     color = colors[i], alpha = 0.5)\n",
    "\n",
    "plt.legend(loc = \"lower right\")\n",
    "plt.xlabel(\"Exploration Iterations\")\n",
    "plt.ylabel(\"Progression\")\n",
    "fig = plt.gcf()\n",
    "fig.set_size_inches(10, 6)\n",
    "plt.savefig(\"experiments.jpg\")"
   ]
  },
  {
   "cell_type": "markdown",
   "metadata": {},
   "source": [
    "# Robustification via Imitation Learning"
   ]
  },
  {
   "cell_type": "markdown",
   "metadata": {},
   "source": [
    "## Import Best Run"
   ]
  },
  {
   "cell_type": "code",
   "execution_count": null,
   "metadata": {},
   "outputs": [],
   "source": [
    "import pandas as pd\n",
    "X = pd.read_csv(\"best_run.csv\", header = None)\n",
    "best_run1 = X.drop([1], axis = 1).to_numpy().flatten()"
   ]
  },
  {
   "cell_type": "markdown",
   "metadata": {},
   "source": [
    "## Define Environment Class"
   ]
  },
  {
   "cell_type": "markdown",
   "metadata": {},
   "source": [
    "Action space : [left, up, right, down]\n",
    "\n",
    "Observation space : [x_position, y_position, distance to target, score]"
   ]
  },
  {
   "cell_type": "code",
   "execution_count": null,
   "metadata": {},
   "outputs": [],
   "source": [
    "import gym\n",
    "from gym import spaces"
   ]
  },
  {
   "cell_type": "code",
   "execution_count": null,
   "metadata": {
    "code_folding": []
   },
   "outputs": [],
   "source": [
    "class Environment(gym.Env):\n",
    "    def __init__(self, CORRIDOR_SHAPE = (21, 11), SEEDS = [42, 43, 44, 45],\n",
    "                 env = None,\n",
    "                 starting_position = (26, 26), starting_reward = 0, target_position = (22,19),\n",
    "                 MAX_SCORE = 1):\n",
    "        super(Environment, self).__init__()\n",
    "        self.CORRIDOR_SHAPE = CORRIDOR_SHAPE\n",
    "        self.SEEDS = SEEDS\n",
    "        if env is None:\n",
    "            self.env = create_env(self.CORRIDOR_SHAPE, self.SEEDS)\n",
    "        else:\n",
    "            self.env = env\n",
    "        self.MAX_SCORE = MAX_SCORE\n",
    "        self.size = 2*CORRIDOR_SHAPE[0] + CORRIDOR_SHAPE[1]\n",
    "        self.MAX_DIST = np.sqrt(2*self.size**2)\n",
    "        self.starting_position = np.array(starting_position)\n",
    "        self.starting_reward = starting_reward\n",
    "        self.target_position = np.array(target_position)\n",
    "        self.starting_distance = np.linalg.norm(self.starting_position - target_position)\n",
    "        \n",
    "        self.REWARD_VALUE = 11\n",
    "        self.STEP_PENALTY = 1\n",
    "        \n",
    "        #action space: [left, up, right, down]\n",
    "        self.action_space = spaces.Discrete(4)\n",
    "        \n",
    "        # obsevation space: [x_position, y_position, distance to target, score]\n",
    "        low = [0, 0, 0, 0]\n",
    "        high = [self.size, self.size, self.MAX_DIST, self.MAX_SCORE]\n",
    "        low = np.array(low)\n",
    "        high = np.array(high)\n",
    "        self.observation_space = spaces.Box(low, high)\n",
    "        \n",
    "    def reset(self):\n",
    "        self.env = create_env(self.CORRIDOR_SHAPE, self.SEEDS)        \n",
    "        self.current_state = np.array([self.starting_position[0], self.starting_position[1],\n",
    "                                       self.starting_distance, self.starting_reward])\n",
    "        return self._next_observation()\n",
    "    \n",
    "    def _next_observation(self):\n",
    "        self.current_state = np.array(self.current_state)\n",
    "        obs = self.current_state.copy()\n",
    "        return obs\n",
    "    \n",
    "    def step(self, action):\n",
    "        self._take_action(action)\n",
    "        \n",
    "        x_pos = int(self.current_state[0])\n",
    "        y_pos = int(self.current_state[1])\n",
    "        reward = int(self.env[x_pos, y_pos] == REWARD_MAP_VALUE) * self.REWARD_VALUE - self.STEP_PENALTY\n",
    "        if reward >= 0:\n",
    "            self.env[x_pos, y_pos] = 0\n",
    "            self.current_state[3] += 1\n",
    "        \n",
    "        done = self.current_state[3] == self.MAX_SCORE\n",
    "        \n",
    "        obs = self._next_observation()\n",
    "        \n",
    "        return obs, reward, done, {}\n",
    "    \n",
    "    def _take_action(self, action):\n",
    "        x_pos = int(self.current_state[0])\n",
    "        y_pos = int(self.current_state[1])\n",
    "        x = int(x_pos)\n",
    "        y = int(y_pos)\n",
    "        \n",
    "        if action == 0:\n",
    "            # go left\n",
    "            if x_pos - 1 > 0:\n",
    "                if self.env[x_pos - 1, y_pos] != WALL_MAP_VALUE: \n",
    "                    x = x_pos - 1\n",
    "                \n",
    "        if action == 1:\n",
    "            # go up\n",
    "            if y_pos + 1 < self.env.shape[1]:\n",
    "                if self.env[x_pos, y_pos + 1] != WALL_MAP_VALUE:\n",
    "                    y = y_pos + 1\n",
    "                \n",
    "        if action == 2:\n",
    "            # go right\n",
    "            if x_pos + 1 < self.env.shape[0]:\n",
    "                if self.env[x_pos + 1, y_pos] != WALL_MAP_VALUE:\n",
    "                    x = x_pos + 1\n",
    "            \n",
    "        if action == 3:\n",
    "            # go down\n",
    "            if y_pos - 1 > 0:\n",
    "                if self.env[x_pos, y_pos - 1] != WALL_MAP_VALUE:\n",
    "                    y = y_pos - 1\n",
    "                \n",
    "        xy = np.array([x, y])\n",
    "                \n",
    "        distance_to_target = np.linalg.norm(xy - self.target_position)\n",
    "        self.current_state = np.array([x, y, distance_to_target, self.current_state[3]])\n",
    "        return\n",
    "    \n",
    "    def render(self):\n",
    "        return"
   ]
  },
  {
   "cell_type": "markdown",
   "metadata": {},
   "source": [
    "## Optimization Process (do not run / to be continued)"
   ]
  },
  {
   "cell_type": "code",
   "execution_count": null,
   "metadata": {},
   "outputs": [],
   "source": [
    "from stable_baselines.common.policies import MlpLstmPolicy\n",
    "from stable_baselines.common import make_vec_env\n",
    "from stable_baselines import PPO2\n",
    "import tensorflow as tf"
   ]
  },
  {
   "cell_type": "code",
   "execution_count": null,
   "metadata": {
    "code_folding": []
   },
   "outputs": [],
   "source": [
    "def make_demonstration(action_trajectory):\n",
    "    \"\"\"Creates the demonstration sequence from a sequence of actions\n",
    "       as required in the paper \"Learning Montezuma’s Revenge from a Single Demonstration\" \"\"\"\n",
    "    env = Environment()\n",
    "    env.reset()\n",
    "    demonstration = []\n",
    "    actions = []\n",
    "    game = create_env((21, 11))\n",
    "    env_states = []\n",
    "    agent_xy = [(26, 26)]\n",
    "\n",
    "    for action in action_trajectory:    \n",
    "        if(len(np.where(game == REWARD_MAP_VALUE)[0] > 0)):\n",
    "            state_t = env._next_observation()\n",
    "            action_t = action\n",
    "            state_t1, reward, done, _ = env.step(action)\n",
    "            x,y = agent_xy[-1]\n",
    "            if action == 0:\n",
    "                # go left\n",
    "                agent_xy.append((x-1,y))\n",
    "            if action == 1:\n",
    "                # go up\n",
    "                agent_xy.append((x,y+1))\n",
    "            if action == 2:\n",
    "                # go right\n",
    "                agent_xy.append((x+1,y))\n",
    "            if action == 3:\n",
    "                # go down\n",
    "                agent_xy.append((x,y-1))\n",
    "            if game[x,y] == REWARD_MAP_VALUE:      \n",
    "                game[x,y] = 0\n",
    "            env_states.append(game.copy())\n",
    "            demonstration.append(tuple([state_t, action_t, reward, state_t1, done, game.copy()]))\n",
    "    return demonstration"
   ]
  },
  {
   "cell_type": "code",
   "execution_count": null,
   "metadata": {},
   "outputs": [],
   "source": [
    "demonstration = make_demonstration(best_run1)"
   ]
  },
  {
   "cell_type": "code",
   "execution_count": null,
   "metadata": {
    "scrolled": true
   },
   "outputs": [],
   "source": [
    "def Demo_Initialized_Rollout_Worker(demonstration, model, starting_point = -10,\n",
    "                                    batch_size = 32, memory_length = 10, batch_rollout_length = 30):\n",
    "    \n",
    "    state_t, action_t, reward_t, state_t1, done_t, env_state = demonstration[starting_point]\n",
    "    _, _, _, target_state, _, _ = demonstration[-1]\n",
    "    \n",
    "    MAX_SCORE = len(np.where(env_state == REWARD_MAP_VALUE)[0])\n",
    "    \n",
    "    env_kwargs = {\"env\": env_state,\n",
    "                  \"starting_position\" : state_t1[0:2],\n",
    "                  \"starting_reward\" : 0,\n",
    "                  \"target_position\" : target_state[0:2],\n",
    "                  \"MAX_SCORE\" : MAX_SCORE\n",
    "                 }\n",
    "    \n",
    "    success_counter = 0\n",
    "    batch = []\n",
    "    for j in range(batch_size):\n",
    "        model.set_env(make_vec_env(Environment, n_envs = 1, env_kwargs = env_kwargs))\n",
    "        env = model.env\n",
    "        env.reset()\n",
    "        sample = []\n",
    "        values = []\n",
    "        m = False\n",
    "        hidden_state = None\n",
    "        time_counter = starting_point - memory_length\n",
    "        for step in range(batch_rollout_length):\n",
    "            if time_counter < starting_point:\n",
    "                state_t, action_t, _, _, _, _ = demonstration[time_counter]\n",
    "                env = model.get_env()\n",
    "                state_t1, reward, done, _ = env.step([action_t])\n",
    "                m = False\n",
    "\n",
    "                action, hidden_state = model.predict(state_t.reshape(1, state_t.shape[0]), hidden_state)\n",
    "            else:\n",
    "                action_t, hidden_state = model.predict(sample[-1][0].reshape(1, state_t.shape[0]), hidden_state)\n",
    "                state_t1, reward, done, _ = env.step(action_t)\n",
    "                m = True\n",
    "\n",
    "            sample.append([state_t, action_t, reward, state_t1, done, m])\n",
    "            time_counter += 1\n",
    "            if done:\n",
    "                success_counter += 1\n",
    "        batch.append(sample)\n",
    "    return batch, success_counter\n",
    "                        \n",
    "                \n",
    "    "
   ]
  },
  {
   "cell_type": "code",
   "execution_count": null,
   "metadata": {},
   "outputs": [],
   "source": [
    "def Optimizer(demonstration, model,\n",
    "              batch_size = 32, success_threshold = 0.5,\n",
    "              starting_point_shift = 10):\n",
    "    starting_point = -starting_point_shift\n",
    "    batch, success_counter = Demo_Initialized_Rollout_Worker(demonstration, model, starting_point)\n",
    "    batch = np.array(batch)\n",
    "    \n",
    "    \n",
    "    return batch\n",
    "    "
   ]
  },
  {
   "cell_type": "code",
   "execution_count": null,
   "metadata": {
    "scrolled": true
   },
   "outputs": [],
   "source": [
    "env = make_vec_env(Environment, n_envs=1)\n",
    "\n",
    "model = PPO2(MlpLstmPolicy, env, verbose=1, nminibatches = 1)"
   ]
  },
  {
   "cell_type": "code",
   "execution_count": null,
   "metadata": {},
   "outputs": [],
   "source": [
    "obs = np.zeros((30, 4))\n",
    "for j,state in enumerate(batch[0, :, 0]):\n",
    "    obs[j] = state\n",
    "values = np.zeros(30)\n",
    "masks = batch[0, :, 5]\n",
    "neglocpacs = np.zeros(30)\n",
    "for j,ob in enumerate(obs):\n",
    "    actions, states = model.predict([ob])\n",
    "    _, value, _, neglocpac = model.step(ob.reshape(1, 4), state = states, mask = [masks[j]])\n",
    "    values[j] = value[0]\n",
    "    neglocpacs[j] = neglocpac[0]\n",
    "    \n",
    "actions = np.zeros(30)\n",
    "for j,action in enumerate(batch[0, :, 1]):\n",
    "    try:\n",
    "        actions[j] = action[0]\n",
    "    except:\n",
    "        actions[j] = action\n",
    "        \n",
    "returns = np.zeros(30)\n",
    "for j,reward in enumerate(batch[0, :, 1]):\n",
    "    try:\n",
    "        returns[j] = reward[0]\n",
    "    except:\n",
    "        returns[j] = reward\n",
    "_, states = model.predict([ob])\n",
    "\n",
    "model._train_step(learning_rate = 1e-5, cliprange = 0.1,\n",
    "                  obs = obs, returns = returns, masks = masks,\n",
    "                  actions = actions, values = values, update = 0, states= states,\n",
    "                  neglogpacs = neglocpacs, writer = None)"
   ]
  }
 ],
 "metadata": {
  "hide_input": false,
  "kernelspec": {
   "display_name": "Python 3",
   "language": "python",
   "name": "python3"
  },
  "language_info": {
   "codemirror_mode": {
    "name": "ipython",
    "version": 3
   },
   "file_extension": ".py",
   "mimetype": "text/x-python",
   "name": "python",
   "nbconvert_exporter": "python",
   "pygments_lexer": "ipython3",
   "version": "3.7.4"
  },
  "vscode": {
   "interpreter": {
    "hash": "ec1e8034f8e9bb199ffcd6f2bb6e36c21c5f92a40d7a2cef06517ff092d23cea"
   }
  }
 },
 "nbformat": 4,
 "nbformat_minor": 2
}
